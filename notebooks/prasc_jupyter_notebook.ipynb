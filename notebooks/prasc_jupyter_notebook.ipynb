{
 "cells": [
  {
   "cell_type": "code",
   "execution_count": 64,
   "metadata": {},
   "outputs": [],
   "source": [
    "import geopandas as gpd\n",
    "import pandas as pd"
   ]
  },
  {
   "cell_type": "markdown",
   "metadata": {},
   "source": [
    "# Read St Kitts & Nevis Dataset"
   ]
  },
  {
   "cell_type": "markdown",
   "metadata": {},
   "source": [
    "Okay! so, let's read the semicolon delimited file."
   ]
  },
  {
   "cell_type": "code",
   "execution_count": 65,
   "metadata": {},
   "outputs": [],
   "source": [
    "parameters = {\n",
    "    'filepath_or_buffer': 'scraped_dataset.txt',\n",
    "    'delimiter': ';',\n",
    "    'skiprows': 1,\n",
    "    'names': ['Place_name', 'Place_lat', 'Place_lng', 'Address', 'Postal_code',\n",
    "             'Phone_number', 'Website', 'Type', 'Place_id', 'Compound_code', 'Global_code',\n",
    "             'Rating', 'Price_level', 'Floor', 'Street_number', 'Route', 'Locality',\n",
    "             'Administrative_area_level_1', 'Country', 'Formatted_address', \n",
    "              'Coordinate_lat', 'Coord_lng', 'Search_radius', 'Coordinate_id', \n",
    "              'Permenantly_closed', '']\n",
    "}"
   ]
  },
  {
   "cell_type": "markdown",
   "metadata": {},
   "source": [
    "See https://geopandas.readthedocs.io/en/latest/gallery/create_geopandas_from_pandas.html#from-longitudes-and-latitudes\n"
   ]
  },
  {
   "cell_type": "code",
   "execution_count": 66,
   "metadata": {},
   "outputs": [],
   "source": [
    "scraped_dataset = pd.read_csv(**parameters)"
   ]
  },
  {
   "cell_type": "code",
   "execution_count": 67,
   "metadata": {},
   "outputs": [],
   "source": [
    "# Subset of fields to retrieve\n",
    "interested_fields = ['Place_name', 'Address', 'Postal_code', 'Phone_number', 'Website', 'Type', 'Place_id', \n",
    "                     'geometry']"
   ]
  },
  {
   "cell_type": "code",
   "execution_count": 68,
   "metadata": {},
   "outputs": [],
   "source": [
    "gdf = gpd.GeoDataFrame(scraped_dataset,\n",
    "             crs={'init':'epsg:4326'},\n",
    "             geometry=gpd.points_from_xy(scraped_dataset.Place_lng, \n",
    "                                         scraped_dataset.Place_lat))\n",
    "gdf = gdf[interested_fields]"
   ]
  },
  {
   "cell_type": "code",
   "execution_count": 69,
   "metadata": {},
   "outputs": [],
   "source": [
    "gdf.to_file('scraped_dataset.gpkg', driver='GPKG')"
   ]
  }
 ],
 "metadata": {
  "extensions": {
   "jupyter_dashboards": {
    "activeView": "grid_default",
    "version": 1,
    "views": {
     "grid_default": {
      "cellMargin": 10,
      "defaultCellHeight": 20,
      "maxColumns": 12,
      "name": "grid",
      "type": "grid"
     },
     "report_default": {
      "name": "report",
      "type": "report"
     }
    }
   }
  },
  "kernelspec": {
   "display_name": "Python 3",
   "language": "python",
   "name": "python3"
  },
  "language_info": {
   "codemirror_mode": {
    "name": "ipython",
    "version": 3
   },
   "file_extension": ".py",
   "mimetype": "text/x-python",
   "name": "python",
   "nbconvert_exporter": "python",
   "pygments_lexer": "ipython3",
   "version": "3.7.3"
  }
 },
 "nbformat": 4,
 "nbformat_minor": 2
}
