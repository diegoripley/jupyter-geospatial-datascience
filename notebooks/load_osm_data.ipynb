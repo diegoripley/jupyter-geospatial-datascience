{
 "cells": [
  {
   "cell_type": "code",
   "execution_count": null,
   "metadata": {},
   "outputs": [],
   "source": [
    "from IPython.core.display import display, HTML\n",
    "display(HTML(\"<style>.container { width:100% !important; }</style>\"))\n",
    "\n",
    "%matplotlib inline"
   ]
  },
  {
   "cell_type": "markdown",
   "metadata": {},
   "source": [
    "Let's get the database credentials we need."
   ]
  },
  {
   "cell_type": "code",
   "execution_count": null,
   "metadata": {},
   "outputs": [],
   "source": [
    "import os\n",
    "\n",
    "OSM_USER=os.getenv('POSTGRES_USER')\n",
    "OSM_PASS=os.getenv('POSTGRES_PASS')\n",
    "\n",
    "# This is a hack to be able to run osm2pgsql without interactively entering the password\n",
    "os.environ['PGPASSWORD'] = OSM_PASS"
   ]
  },
  {
   "cell_type": "markdown",
   "metadata": {},
   "source": [
    "--hstore\n",
    "adds any tags not already in a conventional column to a hstore column. With the standard stylesheet this would result in tags like highway appearing in a conventional column while tags not in the style like name:en or lanes:forward would appear only in the hstore column.\n",
    "\n",
    "--hstore-add-index\n",
    "adds an index to the hstore columns"
   ]
  },
  {
   "cell_type": "code",
   "execution_count": null,
   "metadata": {},
   "outputs": [],
   "source": [
    "%%bash \n",
    "\n",
    "osm2pgsql --hstore --latlong \\\n",
    "    --database osm \\\n",
    "    --username $POSTGRES_USER \\\n",
    "    --host osm_db \\\n",
    "    /data/saint_kitts_and_nevis-latest.osm.pbf"
   ]
  },
  {
   "cell_type": "code",
   "execution_count": null,
   "metadata": {},
   "outputs": [],
   "source": [
    "import pandas as pd\n",
    "import geopandas as gpd\n",
    "import sqlalchemy"
   ]
  },
  {
   "cell_type": "markdown",
   "metadata": {},
   "source": [
    "Learned all of this from https://songhuiming.github.io/pages/2017/04/02/jupyter-and-pandas-display/"
   ]
  },
  {
   "cell_type": "code",
   "execution_count": null,
   "metadata": {},
   "outputs": [],
   "source": [
    "pd.set_option('display.max_rows', 500)\n",
    "pd.set_option('display.width', 1000)\n",
    "# Display all text in a text without truncation\n",
    "pd.set_option('display.max_colwidth', -1)"
   ]
  },
  {
   "cell_type": "code",
   "execution_count": null,
   "metadata": {},
   "outputs": [],
   "source": [
    "connection_string = 'postgresql://{}:{}@osm_db:5432/osm'.format(OSM_USER, OSM_PASS)"
   ]
  },
  {
   "cell_type": "code",
   "execution_count": null,
   "metadata": {},
   "outputs": [],
   "source": [
    "connection_string"
   ]
  },
  {
   "cell_type": "code",
   "execution_count": null,
   "metadata": {},
   "outputs": [],
   "source": [
    "engine = sqlalchemy.create_engine(connection_string)"
   ]
  },
  {
   "cell_type": "markdown",
   "metadata": {},
   "source": [
    "# What are the OSM Tables?\n",
    "- planet_osm_point: which contains points of interest such as restaurants, hospitals, schools, supermarkets and addresses\n",
    "- planet_osm_lines: contains roads and streets\n",
    "- planet_osm_polygons: contains lakes, building footprints, administrative boundaries such as towns and cities\n",
    "\n",
    "**Source: https://www.bostongis.com/PrinterFriendly.aspx?content_name=loading_osm_postgis**"
   ]
  },
  {
   "cell_type": "markdown",
   "metadata": {},
   "source": [
    "# How do I extract values from the tags column?\n",
    "SELECT osm_id, tags ->'website' AS website FROM planet_osm_polygon where tags -> 'website' is not null limit 20;"
   ]
  },
  {
   "cell_type": "code",
   "execution_count": null,
   "metadata": {},
   "outputs": [],
   "source": [
    "query = \"\"\"\n",
    "SELECT osm_id, \"addr:housename\", \"addr:housenumber\", amenity, building, \n",
    "    leisure, name, office, religion, \n",
    "    service, shop, sport, surface, tourism, \n",
    "    way, tags ->'website' AS website, tags\n",
    "        FROM planet_osm_polygon \n",
    "            WHERE name IS NOT NULL \n",
    "                OR tags ->'website' IS NOT NULL\n",
    "                OR amenity IS NOT NULL\n",
    "                OR building IS NOT NULL\n",
    "                OR leisure IS NOT NULL\n",
    "                OR office IS NOT NULL\n",
    "                OR religion IS NOT NULL\n",
    "                OR service IS NOT NULL\n",
    "                OR shop IS NOT NULL\n",
    "                OR sport IS NOT NULL\n",
    "                OR tourism IS NOT NULL\n",
    "                ORDER BY RANDOM()\n",
    "\"\"\"\n",
    "osm_polygon = gpd.read_postgis(sql=query,\n",
    "                con=engine, geom_col='way', index_col='osm_id')"
   ]
  },
  {
   "cell_type": "code",
   "execution_count": null,
   "metadata": {},
   "outputs": [],
   "source": [
    "osm_polygon.tail()"
   ]
  },
  {
   "cell_type": "code",
   "execution_count": null,
   "metadata": {},
   "outputs": [],
   "source": [
    "import qgrid"
   ]
  },
  {
   "cell_type": "code",
   "execution_count": null,
   "metadata": {},
   "outputs": [],
   "source": [
    "qgrid.show_grid(osm_polygon.drop(columns=['way']))"
   ]
  },
  {
   "cell_type": "code",
   "execution_count": null,
   "metadata": {},
   "outputs": [],
   "source": [
    "query = \"\"\"\n",
    "SELECT osm_id, \"addr:housename\", \"addr:housenumber\", amenity, building, \n",
    "    leisure, name, office, religion, \n",
    "    service, shop, sport, surface, tourism, \n",
    "    way, tags ->'website' AS website, tags\n",
    "        FROM planet_osm_point\n",
    "            WHERE name IS NOT NULL \n",
    "                OR tags ->'website' IS NOT NULL\n",
    "                OR amenity IS NOT NULL\n",
    "                OR building IS NOT NULL\n",
    "                OR leisure IS NOT NULL\n",
    "                OR office IS NOT NULL\n",
    "                OR religion IS NOT NULL\n",
    "                OR service IS NOT NULL\n",
    "                OR shop IS NOT NULL\n",
    "                OR sport IS NOT NULL\n",
    "                OR tourism IS NOT NULL\n",
    "                ORDER BY RANDOM()\n",
    "\"\"\"\n",
    "osm_point = gpd.read_postgis(sql=query,\n",
    "                con=engine, geom_col='way',\n",
    "                index_col='osm_id')"
   ]
  },
  {
   "cell_type": "code",
   "execution_count": null,
   "metadata": {},
   "outputs": [],
   "source": [
    "qgrid.show_grid(osm_point.drop(columns=['way']))"
   ]
  },
  {
   "cell_type": "code",
   "execution_count": null,
   "metadata": {},
   "outputs": [],
   "source": [
    "query = \"\"\"\n",
    "SELECT osm_id, \"addr:housename\", \"addr:housenumber\", amenity, building, \n",
    "    leisure, name, office, religion, \n",
    "    service, shop, sport, surface, tourism, \n",
    "    way, tags ->'website' AS website, tags\n",
    "        FROM planet_osm_line\n",
    "            WHERE name IS NOT NULL \n",
    "                OR tags ->'website' IS NOT NULL\n",
    "                OR amenity IS NOT NULL\n",
    "                OR building IS NOT NULL\n",
    "                OR leisure IS NOT NULL\n",
    "                OR office IS NOT NULL\n",
    "                OR religion IS NOT NULL\n",
    "                OR service IS NOT NULL\n",
    "                OR shop IS NOT NULL\n",
    "                OR sport IS NOT NULL\n",
    "                OR tourism IS NOT NULL\n",
    "                ORDER BY RANDOM()\n",
    "\"\"\"\n",
    "osm_line = gpd.read_postgis(sql=query,\n",
    "                con=engine, geom_col='way',\n",
    "                index_col='osm_id')"
   ]
  },
  {
   "cell_type": "code",
   "execution_count": null,
   "metadata": {},
   "outputs": [],
   "source": [
    "qgrid.show_grid(osm_line.drop(columns=['way']))"
   ]
  },
  {
   "cell_type": "code",
   "execution_count": null,
   "metadata": {},
   "outputs": [],
   "source": []
  }
 ],
 "metadata": {
  "kernelspec": {
   "display_name": "Python 3",
   "language": "python",
   "name": "python3"
  },
  "language_info": {
   "codemirror_mode": {
    "name": "ipython",
    "version": 3
   },
   "file_extension": ".py",
   "mimetype": "text/x-python",
   "name": "python",
   "nbconvert_exporter": "python",
   "pygments_lexer": "ipython3",
   "version": "3.7.3"
  }
 },
 "nbformat": 4,
 "nbformat_minor": 2
}
