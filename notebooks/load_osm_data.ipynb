{
 "cells": [
  {
   "cell_type": "code",
   "execution_count": null,
   "metadata": {},
   "outputs": [],
   "source": [
    "%matplotlib inline\n",
    "\n",
    "# Make container wider\n",
    "from IPython.core.display import display, HTML\n",
    "display(HTML(\"<style>.container { width:100% !important; }</style>\"))\n",
    "\n",
    "\n",
    "## Learned all of this from https://songhuiming.github.io/pages/2017/04/02/jupyter-and-pandas-display/\n",
    "import pandas as pd\n",
    "pd.set_option('display.max_rows', 500)\n",
    "pd.set_option('display.width', 1000)\n",
    "\n",
    "# Display all text in a text without truncation\n",
    "pd.set_option('display.max_colwidth', -1)"
   ]
  },
  {
   "cell_type": "markdown",
   "metadata": {},
   "source": [
    "Let's get the database credentials we need."
   ]
  },
  {
   "cell_type": "code",
   "execution_count": null,
   "metadata": {},
   "outputs": [],
   "source": [
    "import os\n",
    "\n",
    "OSM_USER = os.getenv('POSTGRES_USER')\n",
    "OSM_PASS = os.getenv('POSTGRES_PASS')\n",
    "\n",
    "# This is a hack to be able to run osm2pgsql without interactively entering the password\n",
    "os.environ['PGPASSWORD'] = OSM_PASS"
   ]
  },
  {
   "cell_type": "markdown",
   "metadata": {},
   "source": [
    "--hstore\n",
    "adds any tags not already in a conventional column to a hstore column. With the standard stylesheet this would result in tags like highway appearing in a conventional column while tags not in the style like name:en or lanes:forward would appear only in the hstore column.\n",
    "\n",
    "--hstore-add-index\n",
    "adds an index to the hstore columns"
   ]
  },
  {
   "cell_type": "code",
   "execution_count": null,
   "metadata": {},
   "outputs": [],
   "source": [
    "%%bash \n",
    "\n",
    "osm2pgsql --hstore --latlong \\\n",
    "    --database osm \\\n",
    "    --username $POSTGRES_USER \\\n",
    "    --host osm_db \\\n",
    "    /data/saint_kitts_and_nevis-latest.osm.pbf"
   ]
  },
  {
   "cell_type": "code",
   "execution_count": null,
   "metadata": {},
   "outputs": [],
   "source": [
    "import geopandas as gpd\n",
    "import sqlalchemy\n",
    "import qgrid"
   ]
  },
  {
   "cell_type": "code",
   "execution_count": null,
   "metadata": {},
   "outputs": [],
   "source": [
    "grid_options = {\n",
    "    # SlickGrid options\n",
    "    'fullWidthRows': True,\n",
    "    'syncColumnCellResize': True,\n",
    "    # Set to false if you want to scroll horizontally (so content fits better)\n",
    "    'forceFitColumns': True,\n",
    "    'defaultColumnWidth': 90,\n",
    "    'rowHeight': 30,\n",
    "    'enableColumnReorder': False,\n",
    "    'enableTextSelectionOnCells': True,\n",
    "    'editable': True,\n",
    "    'autoEdit': False,\n",
    "    'explicitInitialization': True,\n",
    "\n",
    "    'sortable': True,\n",
    "    'filterable': False,\n",
    "    'highlightSelectedCell': True,\n",
    "    'highlightSelectedRow': True\n",
    "}\n",
    "qgrid.set_defaults(grid_options=grid_options)"
   ]
  },
  {
   "cell_type": "code",
   "execution_count": null,
   "metadata": {},
   "outputs": [],
   "source": [
    "connection_string = 'postgresql://{}:{}@osm_db:5432/osm'.format(OSM_USER, OSM_PASS)"
   ]
  },
  {
   "cell_type": "code",
   "execution_count": null,
   "metadata": {},
   "outputs": [],
   "source": [
    "engine = sqlalchemy.create_engine(connection_string)"
   ]
  },
  {
   "cell_type": "markdown",
   "metadata": {},
   "source": [
    "# What are the OSM Tables?\n",
    "- planet_osm_point: which contains points of interest such as restaurants, hospitals, schools, supermarkets and addresses\n",
    "- planet_osm_lines: contains roads and streets\n",
    "- planet_osm_polygons: contains lakes, building footprints, administrative boundaries such as towns and cities\n",
    "\n",
    "**Source: https://www.bostongis.com/PrinterFriendly.aspx?content_name=loading_osm_postgis**"
   ]
  },
  {
   "cell_type": "markdown",
   "metadata": {},
   "source": [
    "# How do I extract values from the tags column?\n",
    "In this example, we are extracting the value of the key `website` from the tags column.\n",
    "```sql\n",
    "SELECT osm_id, tags ->'website' AS website \n",
    "FROM planet_osm_polygon \n",
    "WHERE tags -> 'website' is not null limit 20;\n",
    "```\n",
    "\n",
    "# How do I check that there are values in the tags column?\n",
    "\n",
    "```sql\n",
    "SELECT * \n",
    "FROM planet_osm_polygon\n",
    "WHERE array_length(akeys(tags), 1) IS NOT NULL\n",
    "```\n",
    "\n",
    "# How do I check all distinct tag keys?\n",
    "\n",
    "```sql\n",
    "SELECT DISTINCT skeys(tags) AS k\n",
    "FROM planet_osm_polygon\n",
    "ORDER BY skeys(tags) ASC\n",
    "```\n",
    "\n",
    "# Cool stuff with opening times\n",
    "https://openingh.ypid.de/ is an interesting link that visualizes the opening hours tags. \n",
    "\n",
    "So far I've gathered\n",
    "- `service_times` - it's recommended to use opening_hours. Used if times of service given is different from the opening hours. See [here](https://wiki.openstreetmap.org/wiki/Key:service_times) for more information\n",
    "- `opening_hours`"
   ]
  },
  {
   "cell_type": "code",
   "execution_count": null,
   "metadata": {},
   "outputs": [],
   "source": [
    "query = \"\"\"\n",
    "SELECT osm_id,\n",
    "       tags -> 'addr:city'       AS \"addr:city\",\n",
    "       tags -> 'addr:full'     AS \"addr:full\",\n",
    "       \"addr:housename\",\n",
    "       \"addr:housenumber\",\n",
    "       tags -> 'addr:interpolation'   AS \"addr:interpolation\",\n",
    "       tags -> 'addr:place' AS \"addr:place\",\n",
    "       tags -> 'addr:postcode'   AS \"addr:postcode\",\n",
    "       tags -> 'addr:street'     AS \"addr:street\",\n",
    "       amenity,\n",
    "       building,\n",
    "       tags -> 'building:levels' AS building_levels,\n",
    "       -- See https://wiki.openstreetmap.org/wiki/Key:level\n",
    "       tags -> 'level' AS level,\n",
    "       tags -> 'internet_access' AS internet_access,\n",
    "       leisure,\n",
    "       name,\n",
    "       office,\n",
    "       tags -> 'opening_hours' AS opening_hours,\n",
    "       tags -> 'service_times' AS service_times,\n",
    "       religion,\n",
    "       service,\n",
    "       shop,\n",
    "       sport,\n",
    "       surface,\n",
    "       tourism,\n",
    "       tags -> 'phone'           AS phone_number,\n",
    "       tags -> 'website'         AS website,\n",
    "       --tags -> 'website_1'         AS website_1,\n",
    "       tags -> 'roof'            AS roof\n",
    "       --,tags\n",
    "       ,way\n",
    "FROM planet_osm_polygon\n",
    "WHERE\n",
    "   tags -> 'addr:full' IS NOT NULL\n",
    "   OR \"addr:housename\" IS NOT NULL\n",
    "   OR \"addr:housenumber\" IS NOT NULL\n",
    "   OR tags -> 'addr:place' IS NOT NULL\n",
    "   OR tags -> 'addr:postcode' IS NOT NULL\n",
    "   OR tags -> 'addr:street' IS NOT NULL\n",
    "   OR amenity IS NOT NULL\n",
    "   OR building IS NOT NULL\n",
    "   OR tags -> 'building:levels' IS NOT NULL\n",
    "   OR tags -> 'level' IS NOT NULL\n",
    "   OR tags -> 'internet_access' IS NOT NULL\n",
    "   OR leisure IS NOT NULL\n",
    "   OR name IS NOT NULL\n",
    "   OR office IS NOT NULL\n",
    "   OR tags -> 'opening_hours' IS NOT NULL\n",
    "   OR religion IS NOT NULL\n",
    "   OR service IS NOT NULL\n",
    "   OR tags -> 'service_times' IS NOT NULL\n",
    "   OR shop IS NOT NULL\n",
    "   OR sport IS NOT NULL\n",
    "   OR tourism IS NOT NULL\n",
    "   OR tags -> 'phone' IS NOT NULL\n",
    "   OR tags -> 'website' IS NOT NULL\n",
    "   OR tags -> 'website_1' IS NOT NULL\n",
    "ORDER BY RANDOM()\n",
    "\"\"\"\n",
    "osm_polygon = gpd.read_postgis(sql=query,\n",
    "                con=engine, geom_col='way', index_col='osm_id')"
   ]
  },
  {
   "cell_type": "code",
   "execution_count": null,
   "metadata": {},
   "outputs": [],
   "source": [
    "# fillna method makes it so \"None\" is not displayed on the table\n",
    "qgrid.show_grid((osm_polygon\n",
    "                     .drop(columns=['way'])\n",
    "                     .fillna('')\n",
    "                ))"
   ]
  },
  {
   "cell_type": "code",
   "execution_count": null,
   "metadata": {},
   "outputs": [],
   "source": [
    "osm_polygon.envelope.plot(edgecolor='red', facecolor='none')"
   ]
  },
  {
   "cell_type": "code",
   "execution_count": null,
   "metadata": {},
   "outputs": [],
   "source": [
    "query = \"\"\"\n",
    "SELECT osm_id,\n",
    "       tags -> 'addr:city'       AS \"addr:city\",\n",
    "       tags -> 'addr:full'     AS \"addr:full\",\n",
    "       \"addr:housename\",\n",
    "       \"addr:housenumber\",\n",
    "       tags -> 'addr:interpolation'   AS \"addr:interpolation\",\n",
    "       tags -> 'addr:place' AS \"addr:place\",\n",
    "       tags -> 'addr:postcode'   AS \"addr:postcode\",\n",
    "       tags -> 'addr:street'     AS \"addr:street\",\n",
    "       amenity,\n",
    "       building,\n",
    "       tags -> 'building:levels' AS building_levels,\n",
    "       -- See https://wiki.openstreetmap.org/wiki/Key:level\n",
    "       tags -> 'level' AS level,\n",
    "       tags -> 'internet_access' AS internet_access,\n",
    "       leisure,\n",
    "       name,\n",
    "       office,\n",
    "       tags -> 'opening_hours' AS opening_hours,\n",
    "       tags -> 'service_times' AS service_times,\n",
    "       religion,\n",
    "       service,\n",
    "       shop,\n",
    "       sport,\n",
    "       surface,\n",
    "       tourism,\n",
    "       tags -> 'phone'           AS phone_number,\n",
    "       tags -> 'website'         AS website,\n",
    "       --tags -> 'website_1'         AS website_1,\n",
    "       tags -> 'roof'            AS roof\n",
    "       --,tags\n",
    "       ,way\n",
    "FROM planet_osm_point\n",
    "WHERE\n",
    "   tags -> 'addr:full' IS NOT NULL\n",
    "   OR \"addr:housename\" IS NOT NULL\n",
    "   OR \"addr:housenumber\" IS NOT NULL\n",
    "   OR tags -> 'addr:place' IS NOT NULL\n",
    "   OR tags -> 'addr:postcode' IS NOT NULL\n",
    "   OR tags -> 'addr:street' IS NOT NULL\n",
    "   OR amenity IS NOT NULL\n",
    "   OR building IS NOT NULL\n",
    "   OR tags -> 'building:levels' IS NOT NULL\n",
    "   OR tags -> 'level' IS NOT NULL\n",
    "   OR tags -> 'internet_access' IS NOT NULL\n",
    "   OR leisure IS NOT NULL\n",
    "   OR name IS NOT NULL\n",
    "   OR office IS NOT NULL\n",
    "   OR tags -> 'opening_hours' IS NOT NULL\n",
    "   OR religion IS NOT NULL\n",
    "   OR service IS NOT NULL\n",
    "   OR tags -> 'service_times' IS NOT NULL\n",
    "   OR shop IS NOT NULL\n",
    "   OR sport IS NOT NULL\n",
    "   OR tourism IS NOT NULL\n",
    "   OR tags -> 'phone' IS NOT NULL\n",
    "   OR tags -> 'website' IS NOT NULL\n",
    "   OR tags -> 'website_1' IS NOT NULL\n",
    "ORDER BY RANDOM()\n",
    "\"\"\"\n",
    "osm_point = gpd.read_postgis(sql=query,\n",
    "                con=engine, geom_col='way',\n",
    "                index_col='osm_id')"
   ]
  },
  {
   "cell_type": "code",
   "execution_count": null,
   "metadata": {},
   "outputs": [],
   "source": [
    "qgrid.show_grid((osm_point\n",
    "                     .drop(columns=['way'])\n",
    "                     .fillna('')\n",
    "                ))"
   ]
  },
  {
   "cell_type": "code",
   "execution_count": null,
   "metadata": {},
   "outputs": [],
   "source": [
    "query = \"\"\"\n",
    "SELECT osm_id, \"addr:housename\", \"addr:housenumber\", amenity, building, \n",
    "    leisure, name, office, religion, \n",
    "    service, shop, sport, surface, tourism, \n",
    "    way, tags ->'website' AS website, tags\n",
    "        FROM planet_osm_line\n",
    "            WHERE name IS NOT NULL \n",
    "                OR tags ->'website' IS NOT NULL\n",
    "                OR amenity IS NOT NULL\n",
    "                OR building IS NOT NULL\n",
    "                OR leisure IS NOT NULL\n",
    "                OR office IS NOT NULL\n",
    "                OR religion IS NOT NULL\n",
    "                OR service IS NOT NULL\n",
    "                OR shop IS NOT NULL\n",
    "                OR sport IS NOT NULL\n",
    "                OR tourism IS NOT NULL\n",
    "                ORDER BY RANDOM()\n",
    "\"\"\"\n",
    "osm_line = gpd.read_postgis(sql=query,\n",
    "                con=engine, geom_col='way',\n",
    "                index_col='osm_id')"
   ]
  },
  {
   "cell_type": "code",
   "execution_count": null,
   "metadata": {},
   "outputs": [],
   "source": [
    "qgrid.show_grid(osm_line.drop(columns=['way']))"
   ]
  }
 ],
 "metadata": {
  "kernelspec": {
   "display_name": "Python 3",
   "language": "python",
   "name": "python3"
  },
  "language_info": {
   "codemirror_mode": {
    "name": "ipython",
    "version": 3
   },
   "file_extension": ".py",
   "mimetype": "text/x-python",
   "name": "python",
   "nbconvert_exporter": "python",
   "pygments_lexer": "ipython3",
   "version": "3.7.3"
  }
 },
 "nbformat": 4,
 "nbformat_minor": 2
}
